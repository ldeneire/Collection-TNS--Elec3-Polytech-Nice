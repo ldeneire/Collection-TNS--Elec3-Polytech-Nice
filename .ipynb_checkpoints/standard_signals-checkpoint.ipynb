{
 "cells": [
  {
   "cell_type": "markdown",
   "metadata": {
    "nbsphinx": "hidden"
   },
   "source": [
    "# Quelques signaux continus\n",
    "\n"
   ]
  },
  {
   "cell_type": "markdown",
   "metadata": {},
   "source": [
    "## Signaux Classiques\n",
    "\n",
    "Certains signaux (on se limite ici aux signaux à une dimension) sont fondamentaux dans le domaine du [traitement du signal](https://fr.wikipedia.org/wiki/Traitement_du_signal). Ils sont particulièrement intéressants pour décrire les signaux intervenant dans les systèmes Linéaires Invariants dans le Temps (LTI : Linear Time Invariant). Ce Notebook est un complément aux transparents de la section I du cours."
   ]
  },
  {
   "cell_type": "markdown",
   "metadata": {},
   "source": [
    "### L'exponentielle complexe\n",
    "\n",
    "L'exponentielle complexe est définie par : \n",
    "\n",
    "\\begin{equation}\n",
    "x(t) = e^{s t} \n",
    "\\end{equation}\n",
    "\n",
    "où  $s = \\sigma + \\imath \\omega$ avec $t, \\sigma, \\omega \\in \\mathbb{R}$ où $t$ représente généralement le temps et $\\imath = \\sqrt{-1}$. La variable $\\sigma$ peut être interprétée comme étant un amortissement et $\\omega$ comme étant la pulsation de l'exponentielle complexe (on reviendra sur cette notion dans la partie numéirque).  En utilisant la [formule d'Euler](https://fr.wikipedia.org/wiki/Formule_d%27Euler), on peut réécrire $x(t)$ : \n",
    "\n",
    "\\begin{equation}\n",
    "x(t) = e^{(\\sigma + \\imath \\omega) t} = e^{\\sigma t} [\\cos(\\omega t) + \\imath  \\sin(\\omega t)]\n",
    "\\end{equation}\n",
    "\n",
    "Les parties réelle et imaginaire de $x(t)$ sont des sinusoïdes de pulsation $\\omega = 2 \\pi f$ dont l'amplitude est multipliée par $e^{\\sigma t}$. Ce facteur multiplicatif, pour $t>0$, est \n",
    "\n",
    "* exponentiellement décroissant en fonction du temps pour  $\\sigma < 0$,\n",
    "* constant pour $\\sigma = 0$,\n",
    "* exponentiellement décroissant en fonction du temps pour  $\\sigma > 0$,\n",
    "\n",
    "Dans la suite de ce cours, on utilisera principalement $x(t) = e^{ \\imath \\omega t} $ pour permettre de faire une analyse harmonique du signal."
   ]
  },
  {
   "cell_type": "markdown",
   "metadata": {},
   "source": [
    "**Exemple**\n",
    "\n",
    "Ci-dessous un exemple fabriqué avec Python : la partie réelle et imaginaire sont affichées, vous pouvez faire varier $\\sigma$ et "
   ]
  },
  {
   "cell_type": "code",
   "execution_count": 1,
   "metadata": {
    "collapsed": true
   },
   "outputs": [],
   "source": [
    "import numpy as np\n",
    "import matplotlib.pyplot as plt\n",
    "\n",
    "import scipy.integrate\n",
    "\n",
    "\n",
    "from IPython.display import HTML, display\n",
    "from ipywidgets import interact\n",
    "\n",
    "%matplotlib inline\n",
    "import matplotlib; matplotlib.rcParams['figure.figsize'] = (8,6)\n"
   ]
  },
  {
   "cell_type": "code",
   "execution_count": 2,
   "metadata": {},
   "outputs": [
    {
     "data": {
      "text/plain": [
       "<matplotlib.figure.Figure at 0x1129707f0>"
      ]
     },
     "metadata": {},
     "output_type": "display_data"
    },
    {
     "data": {
      "application/vnd.jupyter.widget-view+json": {
       "model_id": "c738853880a84237a879407f2e802549",
       "version_major": 2,
       "version_minor": 0
      },
      "text/plain": [
       "A Jupyter Widget"
      ]
     },
     "metadata": {},
     "output_type": "display_data"
    },
    {
     "data": {
      "text/plain": [
       "<function __main__.<lambda>>"
      ]
     },
     "execution_count": 2,
     "metadata": {},
     "output_type": "execute_result"
    }
   ],
   "source": [
    "real_expo = lambda sigma,t: np.exp(sigma*t)\n",
    "complex_sin = lambda omega,t: np.exp(1j*omega*t)\n",
    "t=np.arange(0,10,0.01)\n",
    "def ShowCplxExp(real_expo,complex_sin, t, sigma, omega):\n",
    "    plt.gcf().clear()\n",
    "    plt.subplot(211)\n",
    "    plt.plot(t, real_expo(sigma,t)*np.real(complex_sin(omega,t)))\n",
    "    plt.title('partie réelle')\n",
    "    plt.xlabel(r'$t$');plt.ylabel(r'$e^{\\sigma t} \\cos(\\omega t)$')\n",
    "    plt.subplot(212)\n",
    "    plt.title('partie imaginaire')\n",
    "    plt.ylabel(r'$e^{\\sigma t} \\sin(\\omega t)$')\n",
    "    plt.plot(t, real_expo(sigma,t)*np.imag(complex_sin(omega,t)))\n",
    "    plt.show()\n",
    "    \n",
    "plt.figure()\n",
    "interact(lambda sigma,omega: ShowCplxExp(real_expo,complex_sin,t,sigma,omega),sigma=(-0.5,0.5,0.1),omega=(0,10,0.1))\n"
   ]
  },
  {
   "cell_type": "markdown",
   "metadata": {},
   "source": [
    "### Dirac Impulse\n",
    "\n",
    "The Dirac impulse is one of the most important signals in the theory of signals and systems. It is used for the characterization of LTI systems and the modeling of impulse-like signals. The Dirac impulse is defined by way of the [Dirac delta function](https://en.wikipedia.org/wiki/Dirac_delta_function) which is not a function in the conventional sense. It is a generalized function or *distribution*. The Dirac impulse is denoted as $\\delta(t)$. The Dirac delta function is defined by its effect on other functions. A rigorous treatment is beyond the scope of this course material. Please refer to the literature for a detailed discussion of the mathematical foundations of the Dirac delta distribution. Fortunately for its application in signal processing it is suitable to consider only certain properties. The most relevant ones are\n",
    "\n",
    "1. **Sifting property**\n",
    "    \\begin{equation}\n",
    "    \\int_{-\\infty}^{\\infty} \\delta(t) \\cdot x(t) = x(0)\n",
    "    \\end{equation}\n",
    "    where $x(t)$ needs to be differentiable at $t=0$. The sifting property implies $\\int_{-\\infty}^{\\infty} \\delta(t) = 1$.\n",
    "    \n",
    "2. **Multiplication**\n",
    "    \\begin{equation}\n",
    "    x(t) \\cdot \\delta(t) = x(0) \\cdot \\delta(t)\n",
    "    \\end{equation}\n",
    "    where $x(t)$ needs to be differentiable at $t=0$.\n",
    "    \n",
    "3. **Linearity**\n",
    "    \\begin{equation}\n",
    "    a \\cdot \\delta(t) + b \\cdot \\delta(t) = (a+b) \\cdot \\delta(t)\n",
    "    \\end{equation}\n",
    "    \n",
    "4. **Scaling**\n",
    "    \\begin{equation}\n",
    "    \\delta(a t) = \\frac{1}{|a|} \\delta(t)\n",
    "    \\end{equation}\n",
    "    where $a \\in \\mathbb{R} \\setminus 0$. This implies that the Dirac impulse is a function with even symmetry.\n",
    "    \n",
    "5. **Derivation**\n",
    "    \\begin{equation}\n",
    "    \\int_{-\\infty}^{\\infty} \\frac{d \\delta(t)}{dt} \\cdot x(t) \\; dt = - \\frac{d x(t)}{dt} \\bigg\\vert_{t = 0}\n",
    "    \\end{equation}\n",
    "\n",
    "It is important to note that the product $\\delta(t) \\cdot \\delta(t)$ of two Dirac impulses is not defined."
   ]
  },
  {
   "cell_type": "markdown",
   "metadata": {},
   "source": [
    "**Example**\n",
    "\n",
    "This example illustrates some of the basic properties of the Dirac impulse. Let's first define a Dirac impulse by way of the Dirac delta function"
   ]
  },
  {
   "cell_type": "code",
   "execution_count": 3,
   "metadata": {},
   "outputs": [
    {
     "data": {
      "image/png": "[encoded data removed]",
      "text/latex": [
       "$$\\delta\\left(t\\right)$$"
      ],
      "text/plain": [
       "δ(t)"
      ]
     },
     "execution_count": 3,
     "metadata": {},
     "output_type": "execute_result"
    }
   ],
   "source": [
    "delta = sym.DiracDelta(t)\n",
    "delta"
   ]
  },
  {
   "cell_type": "markdown",
   "metadata": {},
   "source": [
    "Now let's check the sifting property by defining an arbitrary signal (function) $f(t)$ and integrating over its product with the Delta impulse"
   ]
  },
  {
   "cell_type": "code",
   "execution_count": 4,
   "metadata": {},
   "outputs": [
    {
     "data": {
      "image/png": "[encoded data removed]",
      "text/latex": [
       "$$f{\\left (0 \\right )}$$"
      ],
      "text/plain": [
       "f(0)"
      ]
     },
     "execution_count": 4,
     "metadata": {},
     "output_type": "execute_result"
    }
   ],
   "source": [
    "f = sym.Function('f')(t)\n",
    "sym.integrate(delta*f, (t, -sym.oo, sym.oo))"
   ]
  },
  {
   "cell_type": "markdown",
   "metadata": {},
   "source": [
    "**Exercise**\n",
    "\n",
    "* Derive the sifting property for a shifted Dirac impulse $\\delta(t-\\tau)$ and check your results by modifing above example."
   ]
  },
  {
   "cell_type": "markdown",
   "metadata": {},
   "source": [
    "### Heaviside Signal\n",
    "\n",
    "The Heaviside signal is defined by the [Heaviside step function](https://en.wikipedia.org/wiki/Heaviside_step_function)\n",
    "\n",
    "\\begin{equation}\n",
    "\\epsilon(t) = \\begin{cases} 0 & t<0 \\\\  \\frac{1}{2} & t=0 \\\\ 1 & t > 0 \\end{cases}\n",
    "\\end{equation}\n",
    "\n",
    "Note that alternative definitions exist that differ with respect to the value of $\\epsilon(t)$ at $t=0$. The Heaviside signal is used to represent a signal that switches on at a specified time and stays switched on indefinitely. The Heaviside signal can be related to the Dirac impulse by\n",
    "\n",
    "\\begin{equation}\n",
    "\\int_{-\\infty}^{t} \\delta(\\tau) \\; d\\tau = \\epsilon(t)\n",
    "\\end{equation}"
   ]
  },
  {
   "cell_type": "markdown",
   "metadata": {},
   "source": [
    "**Example**\n",
    "\n",
    "In the following, a Heaviside signal $\\epsilon(t)$ is defined and plotted. Note that `Sympy` denotes the Heaviside function by $\\theta(t)$."
   ]
  },
  {
   "cell_type": "code",
   "execution_count": 5,
   "metadata": {},
   "outputs": [
    {
     "data": {
      "image/png": "[encoded data removed]",
      "text/latex": [
       "$$\\theta\\left(t\\right)$$"
      ],
      "text/plain": [
       "Heaviside(t)"
      ]
     },
     "execution_count": 5,
     "metadata": {},
     "output_type": "execute_result"
    }
   ],
   "source": [
    "step = sym.Heaviside(t)\n",
    "step"
   ]
  },
  {
   "cell_type": "code",
   "execution_count": 6,
   "metadata": {},
   "outputs": [
    {
     "data": {
      "image/png": "[encoded data removed]",
      "text/plain": [
       "<Figure size 432x288 with 1 Axes>"
      ]
     },
     "metadata": {},
     "output_type": "display_data"
    }
   ],
   "source": [
    "sym.plot(step, (t, -2, 2), ylim=[-0.2, 1.2], ylabel=r'$\\epsilon(t)$');"
   ]
  },
  {
   "cell_type": "markdown",
   "metadata": {},
   "source": [
    "Let's construct a harmonic signal $\\cos(\\omega t)$ with $\\omega=2$ which is switched on at $t=0$. Considering the definition of the Heaviside function, the desired signal is given as \n",
    "\n",
    "\\begin{equation}\n",
    "x(t) = \\cos(\\omega t) \\cdot \\epsilon(t)\n",
    "\\end{equation}"
   ]
  },
  {
   "cell_type": "code",
   "execution_count": 7,
   "metadata": {},
   "outputs": [
    {
     "data": {
      "image/png": "[encoded data removed]",
      "text/plain": [
       "<Figure size 432x288 with 1 Axes>"
      ]
     },
     "metadata": {},
     "output_type": "display_data"
    }
   ],
   "source": [
    "x = sym.cos(omega*t) * sym.Heaviside(t)\n",
    "sym.plot(x.subs(omega,2), (t, -2, 10), ylim=[-1.2, 1.2], ylabel=r'$x(t)$');"
   ]
  },
  {
   "cell_type": "markdown",
   "metadata": {},
   "source": [
    "### Rectangular Signal\n",
    "\n",
    "The rectangular signal is defined by the [rectangular function](https://en.wikipedia.org/wiki/Rectangular_function)\n",
    "\n",
    "\\begin{equation}\n",
    "\\text{rect}(t) = \\begin{cases} 1 & |t| < \\frac{1}{2} \\\\ \\frac{1}{2} & |t| = \\frac{1}{2} \\\\ 1 & |t| > \\frac{1}{2} \\end{cases}\n",
    "\\end{equation}\n",
    "\n",
    "Note that alternative definitions exist that differ with respect to the value of $\\text{rect}(t)$ at $t = \\pm \\frac{1}{2}$. The rectangular signal is used to represent a signal which is switched on for a limited period of time or has finite duration. The rectangular signal can be related to the Heaviside signal by\n",
    "\n",
    "\\begin{equation}\n",
    "\\text{rect}(t) = \\epsilon \\left(t + \\frac{1}{2} \\right) - \\epsilon \\left(t - \\frac{1}{2} \\right)\n",
    "\\end{equation}"
   ]
  },
  {
   "cell_type": "markdown",
   "metadata": {},
   "source": [
    "**Example**\n",
    "\n",
    "The Heaviside function is used to define a rectangular function in `Sympy`. This function is then used as rectangular signal."
   ]
  },
  {
   "cell_type": "code",
   "execution_count": 8,
   "metadata": {
    "collapsed": true
   },
   "outputs": [],
   "source": [
    "class rect(sym.Function):\n",
    "\n",
    "    @classmethod\n",
    "    def eval(cls, arg):\n",
    "        return sym.Heaviside(arg + sym.S.Half) - sym.Heaviside(arg - sym.S.Half)"
   ]
  },
  {
   "cell_type": "code",
   "execution_count": 9,
   "metadata": {},
   "outputs": [
    {
     "data": {
      "image/png": "[encoded data removed]",
      "text/plain": [
       "<Figure size 432x288 with 1 Axes>"
      ]
     },
     "metadata": {},
     "output_type": "display_data"
    }
   ],
   "source": [
    "sym.plot(rect(t), (t, -1, 1), ylim=[-0.2, 1.2], ylabel=r'rect$(t)$');"
   ]
  },
  {
   "cell_type": "markdown",
   "metadata": {},
   "source": [
    "**Exercise**\n",
    "\n",
    "* Use $\\text{rect}(t)$ to construct a harmonic signal $\\cos(\\omega t)$ with $\\omega=2$ which is switched on at $t=-\\frac{1}{2}$ and switched off at $t=+\\frac{1}{2}$."
   ]
  },
  {
   "cell_type": "markdown",
   "metadata": {},
   "source": [
    "### Sign Signal\n",
    "\n",
    "The sign signal is defined by the [sign/signum function](https://en.wikipedia.org/wiki/Sign_function) which evaluates the sign of its argument\n",
    "\n",
    "\\begin{equation}\n",
    "\\text{sgn}(t) = \\begin{cases} 1 & t>0 \\\\ 0 & t=0 \\\\ -1 & t < 0  \\end{cases}\n",
    "\\end{equation}\n",
    "\n",
    "The sign signal is useful to represent the absolute value of a real-valued signal $x(t) \\in \\mathbb{R}$ by a multiplication\n",
    "\n",
    "\\begin{equation}\n",
    "|x(t)| = x(t) \\cdot \\text{sgn}(x(t))\n",
    "\\end{equation}\n",
    "\n",
    "It is related to the Heaviside function by\n",
    "\n",
    "\\begin{equation}\n",
    "\\text{sgn}(t) = 2 \\cdot \\epsilon(t) - 1\n",
    "\\end{equation}"
   ]
  },
  {
   "cell_type": "markdown",
   "metadata": {},
   "source": [
    "**Example**\n",
    "\n",
    "The following example illustrates the sign signal $\\text{sgn}(t)$. Note that the sign function is represented as $\\text{sign}(t)$ in `Sympy`."
   ]
  },
  {
   "cell_type": "code",
   "execution_count": 10,
   "metadata": {},
   "outputs": [
    {
     "data": {
      "image/png": "[encoded data removed]",
      "text/latex": [
       "$$\\operatorname{sign}{\\left (t \\right )}$$"
      ],
      "text/plain": [
       "sign(t)"
      ]
     },
     "execution_count": 10,
     "metadata": {},
     "output_type": "execute_result"
    }
   ],
   "source": [
    "sgn = sym.sign(t)\n",
    "sgn"
   ]
  },
  {
   "cell_type": "code",
   "execution_count": 11,
   "metadata": {},
   "outputs": [
    {
     "data": {
      "image/png": "[encoded data removed]",
      "text/plain": [
       "<Figure size 432x288 with 1 Axes>"
      ]
     },
     "metadata": {},
     "output_type": "display_data"
    }
   ],
   "source": [
    "sym.plot(sgn, (t, -2, 2), ylim=[-1.2, 1.2], ylabel=r'sgn$(t)$');"
   ]
  },
  {
   "cell_type": "markdown",
   "metadata": {},
   "source": [
    "**Exercise**\n",
    "\n",
    "* Check the values of $\\text{sgn}(t)$ for $t \\to 0^-$, $t = 0$ and $t \\to 0^+$ as implemented in `SymPy`. Do they conform to above definition?"
   ]
  },
  {
   "cell_type": "markdown",
   "metadata": {
    "nbsphinx": "hidden"
   },
   "source": [
    "**Copyright**\n",
    "\n",
    "The notebook is provided as [Open Educational Resource](https://de.wikipedia.org/wiki/Open_Educational_Resources). Feel free to use the notebook for your own educational purposes. The text is licensed under [Creative Commons Attribution 4.0](https://creativecommons.org/licenses/by/4.0/), the code of the IPython examples under the [MIT license](https://opensource.org/licenses/MIT). Please attribute the work as follows: *Signals and Systems* by Sascha Spors."
   ]
  }
 ],
 "metadata": {
  "kernelspec": {
   "display_name": "Python 3",
   "language": "python",
   "name": "python3"
  },
  "language_info": {
   "codemirror_mode": {
    "name": "ipython",
    "version": 3
   },
   "file_extension": ".py",
   "mimetype": "text/x-python",
   "name": "python",
   "nbconvert_exporter": "python",
   "pygments_lexer": "ipython3",
   "version": "3.6.3"
  }
 },
 "nbformat": 4,
 "nbformat_minor": 1
}
