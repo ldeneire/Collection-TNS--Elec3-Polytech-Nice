{
 "cells": [
  {
   "cell_type": "markdown",
   "metadata": {},
   "source": [
    "# Traitement Numérique du Signal - ELEC3 - Polytech Nice - 2018-2019\n",
    "\n",
    "Ce Notebook Python reprend des notebooks avec quelques scripts, couvrant le cours de Traitement Numérique du Signal en première année du cycle d'ingéniérie en systèmes électroniques de Polytech Nice, 2018-2019.  Ce Notebook va forcément évoluer, 2018 étant le point de départ.\n",
    "\n",
    "## I. Introduction aux signaux continus - opérations principales\n",
    "\n",
    "Cette partie est un rappel des signaux continus simples, et servira principalement à poser un cadre commun de notations et d'opérations.  On y voit une première fois la notion de convolution qui sera reprises plus tard.\n",
    "\n",
    "* [Signaux Standard](standard_signals.ipynb)\n",
    "* [Puissance et correlation](puissance_correlation.ipynb)\n",
    "* [Convolution](Convolution.ipynb)\n"
   ]
  },
  {
   "cell_type": "code",
   "execution_count": null,
   "metadata": {
    "collapsed": true
   },
   "outputs": [],
   "source": []
  }
 ],
 "metadata": {
  "kernelspec": {
   "display_name": "Python 3",
   "language": "python",
   "name": "python3"
  },
  "language_info": {
   "codemirror_mode": {
    "name": "ipython",
    "version": 3
   },
   "file_extension": ".py",
   "mimetype": "text/x-python",
   "name": "python",
   "nbconvert_exporter": "python",
   "pygments_lexer": "ipython3",
   "version": "3.6.3"
  }
 },
 "nbformat": 4,
 "nbformat_minor": 2
}
